{
 "cells": [
  {
   "cell_type": "code",
   "execution_count": 9,
   "id": "37174551-a2b8-4462-b1e2-7977734097f5",
   "metadata": {},
   "outputs": [],
   "source": [
    "from transformers import T5Tokenizer, T5ForConditionalGeneration\n",
    "\n",
    "model_name = \"t5-small\"\n",
    "tokenizer = T5Tokenizer.from_pretrained(model_name, legacy=False)\n",
    "model = T5ForConditionalGeneration.from_pretrained(model_name)"
   ]
  },
  {
   "cell_type": "code",
   "execution_count": 10,
   "id": "cd4c5e4b-29c6-4722-8abc-e3d5a0405803",
   "metadata": {},
   "outputs": [],
   "source": [
    "text = \"\"\"\n",
    "The COVID-19 pandemic has brought unprecedented challenges to the global economy...\n",
    "\"\"\"\n",
    "\n",
    "input_text = \"summarize: \" + text"
   ]
  },
  {
   "cell_type": "code",
   "execution_count": 11,
   "id": "59b0b30c-17c7-4798-82ef-b41088355fd1",
   "metadata": {},
   "outputs": [],
   "source": [
    "input_ids = tokenizer.encode(input_text, \n",
    "                             return_tensors=\"pt\",\n",
    "                             max_length=512,\n",
    "                             truncation=True)"
   ]
  },
  {
   "cell_type": "code",
   "execution_count": 12,
   "id": "6585cb40-7223-49c2-b9bc-12f6b145ae80",
   "metadata": {},
   "outputs": [],
   "source": [
    "summary_ids = model.generate(\n",
    "    input_ids, \n",
    "    max_length=50,   \n",
    "    num_beams=4,     \n",
    "    length_penalty=2.0,  \n",
    "    early_stopping=True\n",
    ")"
   ]
  },
  {
   "cell_type": "code",
   "execution_count": 13,
   "id": "b5d7332d-a9c0-46c7-9d23-169f53ff0428",
   "metadata": {},
   "outputs": [
    {
     "name": "stdout",
     "output_type": "stream",
     "text": [
      "Summary: the pandemic has brought unprecedented challenges to the global economy. the pandemic has brought unprecedented challenges to the global economy.\n"
     ]
    }
   ],
   "source": [
    "summary = tokenizer.decode(summary_ids[0], skip_special_tokens=True)\n",
    "\n",
    "print(\"Summary:\", summary)"
   ]
  }
 ],
 "metadata": {
  "kernelspec": {
   "display_name": "Python 3 (ipykernel)",
   "language": "python",
   "name": "python3"
  },
  "language_info": {
   "codemirror_mode": {
    "name": "ipython",
    "version": 3
   },
   "file_extension": ".py",
   "mimetype": "text/x-python",
   "name": "python",
   "nbconvert_exporter": "python",
   "pygments_lexer": "ipython3",
   "version": "3.11.1"
  }
 },
 "nbformat": 4,
 "nbformat_minor": 5
}
